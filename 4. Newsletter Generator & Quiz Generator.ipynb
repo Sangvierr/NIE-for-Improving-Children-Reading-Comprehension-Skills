{
 "cells": [
  {
   "cell_type": "markdown",
   "metadata": {},
   "source": [
    "### 1. 뉴스레터 생성 GPT-3.5-Turbo"
   ]
  },
  {
   "cell_type": "code",
   "execution_count": null,
   "metadata": {},
   "outputs": [],
   "source": [
    "import pandas as pd\n",
    "import json\n",
    "import time\n",
    "from openai import OpenAI"
   ]
  },
  {
   "cell_type": "code",
   "execution_count": null,
   "metadata": {},
   "outputs": [],
   "source": [
    "# GPT-3.5-Turbo 파인튜닝\n",
    "class NewsLetterGenerator:\n",
    "    def __init__(self, api_key, data_path, output_path=\"FineTune_data.jsonl\"):\n",
    "        self.api_key = api_key\n",
    "        self.data_path = data_path\n",
    "        self.output_path = output_path\n",
    "        self.client = OpenAI(api_key=self.api_key)\n",
    "\n",
    "    def load_data(self):\n",
    "        return pd.read_csv(self.data_path, encoding='utf-8-sig')\n",
    "\n",
    "    def create_FineTune_data(self, row):\n",
    "        example = {\n",
    "            \"messages\": [\n",
    "                {\n",
    "                    \"role\": \"system\",\n",
    "                    \"content\": \"\"\"당신은 초등학생들을 위해 원본 신문기사를 뉴스레터 형태로 바꿔서 작성해주는 기자입니다. 어려운 신문 기사를 뉴스레터 형태로 바꿔서 작성한다면, 학생들이 본문 내용을 더욱 쉽게 이해할 수 있을 것입니다. 아래의 [조건]들을 바탕으로, [원본 신문기사]를 뉴스레터 형태로 작성해주세요. \n",
    "                    조건 1 : 모든 문장에서 학생들에게 친밀감 있는 말투를 사용해주세요.\n",
    "                    조건 2 : 적절한 이모지를 사용해주세요.\n",
    "                    조건 3 : 결과물은 4개의 Part으로 구성해주세요. 구성은 다음과 같습니다.\n",
    "                        1st Part : 간단한 인사와 함께 [원본 신문기사]의 주제에 대해서 소개해주세요. \n",
    "                        2nd Part : [원본 신문기사]에 등장하는 단어들 중, [어려운 어휘]에 속하는 단어들을 쉽게 풀어서 설명해주세요. \n",
    "                        3rd Part : [원본 신문기사]의 본문을 초등학생이 이해하기 쉬운 말로 풀어서 작성해주세요. 단, 본문의 내용이 지나치게 요약되면 안 됩니다. 본문 내용을 최대한 보존한 상태에서, 어려운 표현들만 쉽게 풀어서 작성해주세요.\n",
    "                        4th Part : 본문 내용을 정리하면서 마무리 인사를 해주세요.\n",
    "                    조건 4 : 글의 전반적인 구성과 형태를 뉴스레터처럼 구성해주세요.\n",
    "                    \"\"\"\n",
    "                },\n",
    "                {\n",
    "                    \"role\": \"user\",\n",
    "                    \"content\": '[원본 신문기사] : {}'.format(row[\"Input\"])\n",
    "                },\n",
    "                {\n",
    "                    \"role\": \"user\",\n",
    "                    \"content\": '[어려운 어휘] : {}'.format(row[\"어려운 어휘\"])\n",
    "                },\n",
    "                {\n",
    "                    \"role\": \"assistant\",\n",
    "                    \"content\": row[\"수정본\"]\n",
    "                }\n",
    "            ]\n",
    "        }\n",
    "        return example\n",
    "\n",
    "    def save_FineTune_data(self, tuning_data):\n",
    "        with open(self.output_path, encoding=\"utf-8\", mode=\"w\") as file:\n",
    "            for i in tuning_data:\n",
    "                file.write(json.dumps(i) + \"\\n\")\n",
    "        print(f'Tuning data saved successfully as {self.output_path}')\n",
    "\n",
    "    def upload_FineTune_data(self):\n",
    "        with open(self.output_path, 'rb') as file:\n",
    "            response = self.client.files.create(file=file, purpose=\"fine-tune\")\n",
    "        file_id = response.id\n",
    "        print(f'File uploaded successfully with ID: {file_id}')\n",
    "        return file_id\n",
    "\n",
    "    def create_FineTune_model(self, file_id):\n",
    "        tuning_job = self.client.fine_tuning.jobs.create(training_file=file_id, model=\"gpt-3.5-turbo\")\n",
    "        fine_tuning_job_id = tuning_job.id\n",
    "        print(f\"Fine-tuning job created successfully with ID : {fine_tuning_job_id}\")\n",
    "        return fine_tuning_job_id\n",
    "\n",
    "    def check_FineTune_status(self, job_id):\n",
    "        job = self.client.fine_tuning.jobs.retrieve(job_id)\n",
    "        print(f\"Job status: {job.status}\")\n",
    "        return job.status\n",
    "\n",
    "    def get_FineTune_model_id(self, job_id):\n",
    "        job = self.client.fine_tuning.jobs.retrieve(job_id)\n",
    "        model_id = job.fine_tuned_model\n",
    "        print(f\"Created Fine-tuned model with ID : {model_id}\")\n",
    "        return model_id"
   ]
  },
  {
   "cell_type": "code",
   "execution_count": null,
   "metadata": {},
   "outputs": [],
   "source": [
    "api_key = \"사용자의_api_key를 입력\"\n",
    "data_path = '데이터_파일_이름'\n",
    "generator = NewsLetterGenerator(api_key, data_path)\n",
    "\n",
    "data = generator.load_data()\n",
    "\n",
    "tuning_data = [generator.create_FineTune_data(row) for _, row in data.iterrows()]\n",
    "\n",
    "generator.save_FineTune_data(tuning_data)\n",
    "\n",
    "file_id = generator.upload_FineTune_data()\n",
    "\n",
    "job_id = generator.create_FineTune_model(file_id)\n",
    "\n",
    "generator.check_FineTune_status(job_id)\n",
    "\n",
    "fine_tuned_model_id = generator.get_FineTune_model_id(job_id)"
   ]
  },
  {
   "cell_type": "markdown",
   "metadata": {},
   "source": [
    "### 2. 내용일치 퀴즈 생성 GPT-3.5-Turbo"
   ]
  },
  {
   "cell_type": "code",
   "execution_count": null,
   "metadata": {},
   "outputs": [],
   "source": [
    "api_key = \"사용자의_api_key를 입력\"\n",
    "client = OpenAI(\n",
    "    api_key=api_key\n",
    ")"
   ]
  },
  {
   "cell_type": "code",
   "execution_count": null,
   "metadata": {},
   "outputs": [],
   "source": [
    "# 퀴즈 생성을 위한 프롬프트\n",
    "prompt = [\n",
    "    {\n",
    "        \"role\": \"system\",\n",
    "        \"content\": \"\"\"너는 어린이들을 위해 퀴즈를 생성하는 모델이야. [신문 기사]에 대해서 내용 일치 퀴즈를 생성해줘. 아래의 4가지 조건을 고려하여 퀴즈를 생성해줘.\n",
    "        조건1. 1번부터 4번까지 4개의 statement를 출력해줘.\n",
    "        조건2. 4개의 statement 중에서 3개의 statement는 true statement여야 해. True statement는 [신문 기사]의 내용과 일치하는 statement가 되어야 해.\n",
    "        조건3. 4개의 statement 중에서 1개의 statement는 false statement여야 해. False statement는 [신문 기사]의 내용과 반대되는 statement가 되어야 해.\n",
    "        조건4. True statement 뒤에는 (true), false statement 뒤에는 (false)로 표시를 해줘.\"\"\"\n",
    "    },\n",
    "    {\n",
    "         \"role\": \"user\",\n",
    "        \"content\": '[신문기사] : {}'.format(article)\n",
    "    }\n",
    "]"
   ]
  },
  {
   "cell_type": "code",
   "execution_count": null,
   "metadata": {},
   "outputs": [],
   "source": [
    "s_time = time.time()\n",
    "\n",
    "# gpt-3.5-turbo에 쿼리 보내기\n",
    "chat_completion = client.chat.completions.create(\n",
    "    messages=prompt,\n",
    "    model='gpt-3.5-turbo-1106')\n",
    "\n",
    "e_time = time.time() - s_time\n",
    "print(e_time)"
   ]
  },
  {
   "cell_type": "code",
   "execution_count": null,
   "metadata": {},
   "outputs": [],
   "source": [
    "result = chat_completion.choices[0].message.content\n",
    "print(result)"
   ]
  },
  {
   "cell_type": "code",
   "execution_count": null,
   "metadata": {},
   "outputs": [],
   "source": [
    "# gpt-4-turbo에 쿼리 보내기\n",
    "chat_completion_4 = client.chat.completions.create(\n",
    "    messages=prompt,\n",
    "    model='gpt-4-turbo-preview')"
   ]
  },
  {
   "cell_type": "code",
   "execution_count": null,
   "metadata": {},
   "outputs": [],
   "source": [
    "result = chat_completion_4.choices[0].message.content\n",
    "print(result)"
   ]
  }
 ],
 "metadata": {
  "kernelspec": {
   "display_name": "PySang",
   "language": "python",
   "name": "python3"
  },
  "language_info": {
   "codemirror_mode": {
    "name": "ipython",
    "version": 3
   },
   "file_extension": ".py",
   "mimetype": "text/x-python",
   "name": "python",
   "nbconvert_exporter": "python",
   "pygments_lexer": "ipython3",
   "version": "3.12.1"
  }
 },
 "nbformat": 4,
 "nbformat_minor": 2
}
